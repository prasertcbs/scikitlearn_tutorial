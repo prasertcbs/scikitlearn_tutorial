{
 "cells": [
  {
   "cell_type": "markdown",
   "metadata": {},
   "source": [
    "# Titanic (lightGBM classifier)\n",
    "* Notebook: https://github.com/prasertcbs/scikitlearn_tutorial/blob/main/notebook/titanic_lightgbm.ipynb\n",
    "* kaggle: https://www.kaggle.com/c/titanic\n",
    "* lightgbm: https://lightgbm.readthedocs.io/en/latest/"
   ]
  },
  {
   "cell_type": "markdown",
   "metadata": {},
   "source": [
    "[<img src=\"https://github.com/microsoft/LightGBM/raw/master/docs/logo/LightGBM_logo_black_text_small.png\">](https://lightgbm.readthedocs.io/en/latest/)"
   ]
  },
  {
   "cell_type": "markdown",
   "metadata": {},
   "source": [
    "---\n",
    "* author:  [Prasert Kanawattanachai](prasert.k@chula.ac.th)\n",
    "* YouTube: https://www.youtube.com/prasertcbs\n",
    "* github: https://github.com/prasertcbs/\n",
    "* [Chulalongkorn Business School](https://www.cbs.chula.ac.th/en/)\n",
    "---"
   ]
  },
  {
   "cell_type": "code",
   "execution_count": 1,
   "metadata": {},
   "outputs": [],
   "source": [
    "import math\n",
    "from pprint import pprint\n",
    "import pandas as pd\n",
    "import seaborn as sns\n",
    "import numpy as np\n",
    "import matplotlib.pyplot as plt\n",
    "\n",
    "%matplotlib inline\n",
    "%config InlineBackend.figure_format = 'retina'"
   ]
  },
  {
   "cell_type": "code",
   "execution_count": 2,
   "metadata": {},
   "outputs": [],
   "source": [
    "import warnings\n",
    "warnings.filterwarnings('ignore')"
   ]
  },
  {
   "cell_type": "code",
   "execution_count": 3,
   "metadata": {},
   "outputs": [
    {
     "name": "stdout",
     "output_type": "stream",
     "text": [
      "pandas  version: 1.2.3\n",
      "numpy   version: 1.19.2\n",
      "seaborn version: 0.11.1\n"
     ]
    }
   ],
   "source": [
    "print(f'pandas  version: {pd.__version__}')\n",
    "print(f'numpy   version: {np.__version__}')\n",
    "print(f'seaborn version: {sns.__version__}')"
   ]
  },
  {
   "cell_type": "markdown",
   "metadata": {},
   "source": [
    "## utility functions"
   ]
  },
  {
   "cell_type": "code",
   "execution_count": 4,
   "metadata": {},
   "outputs": [],
   "source": [
    "def df_unique_value(df):\n",
    "    for c in df.columns:\n",
    "        col_type = df[c].dtype\n",
    "        if col_type == 'object' or col_type.name == 'category':\n",
    "            print(f'{c:10}\\n{df[c].unique()}')\n",
    "            print('-' * 65)\n",
    "            \n",
    "def convert_cols_to_category(df, cols:list):\n",
    "    \"\"\"\n",
    "    convert `cols` to `category`\n",
    "    \"\"\"\n",
    "    for c in df[cols]:\n",
    "        df[c] = df[c].astype('category')\n",
    "    return df\n",
    "    \n",
    "def convert_obj_columns_to_category(df):\n",
    "    for c in df.columns:\n",
    "        col_type = df[c].dtype\n",
    "        if col_type == 'object' or col_type.name == 'category':\n",
    "            df[c] = df[c].astype('category')\n",
    "    return df\n",
    "\n",
    "def print_category_columns(df):\n",
    "    for c in df.columns:\n",
    "        col_type = df[c].dtype\n",
    "        if col_type.name == 'category':\n",
    "    #         print(f'{c}: {df[c].cat.categories}')\n",
    "    #         print(pd.Series(df[c].cat.categories))\n",
    "            print(f'{c:15}: {list(enumerate(df[c].cat.categories))}')\n",
    "            print('-' * 60)\n",
    "            \n",
    "def plot_mn(df, cols, n_rows:int=1, kind:str='boxplot', color='salmon'):\n",
    "    \"\"\"\n",
    "    plot boxplot, violin, hist in m (rows) by n (columns)\n",
    "    >>> plot_mn(df, ['Calories', 'Fat'], 2, 'hist')\n",
    "    \"\"\"\n",
    "    n=len(cols)\n",
    "    n_cols=math.ceil(n / n_rows)\n",
    "    fig, ax = plt.subplots(n_rows, n_cols, figsize=(n_cols*3, n_rows*4))\n",
    "    ax=ax.ravel()\n",
    "\n",
    "    fig.tight_layout()\n",
    "    for i, c in enumerate(cols):\n",
    "        col_type = df[c].dtype\n",
    "        if col_type.name == 'category':\n",
    "            sns.countplot(data=df, x=c, ax=ax[i])\n",
    "        else:\n",
    "            if kind.lower()=='boxplot':\n",
    "                sns.boxplot(data=df[[c]], ax=ax[i], color=color)   \n",
    "            elif kind.lower()=='violin':\n",
    "                sns.violinplot(data=df[[c]], ax=ax[i], color=color)   \n",
    "            elif kind.lower()=='hist':\n",
    "                sns.distplot(df[c], hist=True, kde=False, ax=ax[i], color=color)  \n"
   ]
  },
  {
   "cell_type": "markdown",
   "metadata": {},
   "source": [
    "## data\n",
    "| Variable | Definition                                                             | Key                                            |\n",
    "|----------|------------------------------------------------------------------------|------------------------------------------------|\n",
    "| Survived | Survival                                                               | 0 = No, 1 = Yes                                |\n",
    "| Pclass   | Ticket class                                                           | 1 = 1st, 2 = 2nd, 3 = 3rd                      |\n",
    "| Sex      | Sex                                                                    |                                                |\n",
    "| Age      | Age in years                                                           |                                                |\n",
    "| SibSp    | # of siblings / spouses aboard the Titanic                             |                                                |\n",
    "|          | Sibling = brother, sister, stepbrother, stepsister                     |                                                |\n",
    "|          | Spouse = husband, wife (mistresses and fiancés were ignored)           |                                                |\n",
    "| Parch    | # of parents / children aboard the Titanic                             |                                                |\n",
    "|          | Parent = mother, father                                                |                                                |\n",
    "|          | Child = daughter, son, stepdaughter, stepson                           |                                                |\n",
    "|          | Some children travelled only with a nanny, therefore parch=0 for them. |                                                |\n",
    "| Ticket   | Ticket number                                                          |                                                |\n",
    "| Fare     | Passenger fare                                                         |                                                |\n",
    "| Cabin    | Cabin number                                                           |                                                |\n",
    "| Embarked | Port of Embarkation                                                    | C = Cherbourg, Q = Queenstown, S = Southampton |"
   ]
  },
  {
   "cell_type": "code",
   "execution_count": 5,
   "metadata": {},
   "outputs": [
    {
     "data": {
      "text/html": [
       "<div>\n",
       "<style scoped>\n",
       "    .dataframe tbody tr th:only-of-type {\n",
       "        vertical-align: middle;\n",
       "    }\n",
       "\n",
       "    .dataframe tbody tr th {\n",
       "        vertical-align: top;\n",
       "    }\n",
       "\n",
       "    .dataframe thead th {\n",
       "        text-align: right;\n",
       "    }\n",
       "</style>\n",
       "<table border=\"1\" class=\"dataframe\">\n",
       "  <thead>\n",
       "    <tr style=\"text-align: right;\">\n",
       "      <th></th>\n",
       "      <th>PassengerId</th>\n",
       "      <th>Survived</th>\n",
       "      <th>Pclass</th>\n",
       "      <th>Name</th>\n",
       "      <th>Sex</th>\n",
       "      <th>Age</th>\n",
       "      <th>SibSp</th>\n",
       "      <th>Parch</th>\n",
       "      <th>Ticket</th>\n",
       "      <th>Fare</th>\n",
       "      <th>Cabin</th>\n",
       "      <th>Embarked</th>\n",
       "    </tr>\n",
       "  </thead>\n",
       "  <tbody>\n",
       "    <tr>\n",
       "      <th>655</th>\n",
       "      <td>656</td>\n",
       "      <td>0</td>\n",
       "      <td>2</td>\n",
       "      <td>Hickman, Mr. Leonard Mark</td>\n",
       "      <td>male</td>\n",
       "      <td>24.0</td>\n",
       "      <td>2</td>\n",
       "      <td>0</td>\n",
       "      <td>S.O.C. 14879</td>\n",
       "      <td>73.5000</td>\n",
       "      <td>NaN</td>\n",
       "      <td>S</td>\n",
       "    </tr>\n",
       "    <tr>\n",
       "      <th>598</th>\n",
       "      <td>599</td>\n",
       "      <td>0</td>\n",
       "      <td>3</td>\n",
       "      <td>Boulos, Mr. Hanna</td>\n",
       "      <td>male</td>\n",
       "      <td>NaN</td>\n",
       "      <td>0</td>\n",
       "      <td>0</td>\n",
       "      <td>2664</td>\n",
       "      <td>7.2250</td>\n",
       "      <td>NaN</td>\n",
       "      <td>C</td>\n",
       "    </tr>\n",
       "    <tr>\n",
       "      <th>662</th>\n",
       "      <td>663</td>\n",
       "      <td>0</td>\n",
       "      <td>1</td>\n",
       "      <td>Colley, Mr. Edward Pomeroy</td>\n",
       "      <td>male</td>\n",
       "      <td>47.0</td>\n",
       "      <td>0</td>\n",
       "      <td>0</td>\n",
       "      <td>5727</td>\n",
       "      <td>25.5875</td>\n",
       "      <td>E58</td>\n",
       "      <td>S</td>\n",
       "    </tr>\n",
       "    <tr>\n",
       "      <th>671</th>\n",
       "      <td>672</td>\n",
       "      <td>0</td>\n",
       "      <td>1</td>\n",
       "      <td>Davidson, Mr. Thornton</td>\n",
       "      <td>male</td>\n",
       "      <td>31.0</td>\n",
       "      <td>1</td>\n",
       "      <td>0</td>\n",
       "      <td>F.C. 12750</td>\n",
       "      <td>52.0000</td>\n",
       "      <td>B71</td>\n",
       "      <td>S</td>\n",
       "    </tr>\n",
       "    <tr>\n",
       "      <th>144</th>\n",
       "      <td>145</td>\n",
       "      <td>0</td>\n",
       "      <td>2</td>\n",
       "      <td>Andrew, Mr. Edgardo Samuel</td>\n",
       "      <td>male</td>\n",
       "      <td>18.0</td>\n",
       "      <td>0</td>\n",
       "      <td>0</td>\n",
       "      <td>231945</td>\n",
       "      <td>11.5000</td>\n",
       "      <td>NaN</td>\n",
       "      <td>S</td>\n",
       "    </tr>\n",
       "    <tr>\n",
       "      <th>763</th>\n",
       "      <td>764</td>\n",
       "      <td>1</td>\n",
       "      <td>1</td>\n",
       "      <td>Carter, Mrs. William Ernest (Lucile Polk)</td>\n",
       "      <td>female</td>\n",
       "      <td>36.0</td>\n",
       "      <td>1</td>\n",
       "      <td>2</td>\n",
       "      <td>113760</td>\n",
       "      <td>120.0000</td>\n",
       "      <td>B96 B98</td>\n",
       "      <td>S</td>\n",
       "    </tr>\n",
       "    <tr>\n",
       "      <th>345</th>\n",
       "      <td>346</td>\n",
       "      <td>1</td>\n",
       "      <td>2</td>\n",
       "      <td>Brown, Miss. Amelia \"Mildred\"</td>\n",
       "      <td>female</td>\n",
       "      <td>24.0</td>\n",
       "      <td>0</td>\n",
       "      <td>0</td>\n",
       "      <td>248733</td>\n",
       "      <td>13.0000</td>\n",
       "      <td>F33</td>\n",
       "      <td>S</td>\n",
       "    </tr>\n",
       "    <tr>\n",
       "      <th>79</th>\n",
       "      <td>80</td>\n",
       "      <td>1</td>\n",
       "      <td>3</td>\n",
       "      <td>Dowdell, Miss. Elizabeth</td>\n",
       "      <td>female</td>\n",
       "      <td>30.0</td>\n",
       "      <td>0</td>\n",
       "      <td>0</td>\n",
       "      <td>364516</td>\n",
       "      <td>12.4750</td>\n",
       "      <td>NaN</td>\n",
       "      <td>S</td>\n",
       "    </tr>\n",
       "    <tr>\n",
       "      <th>90</th>\n",
       "      <td>91</td>\n",
       "      <td>0</td>\n",
       "      <td>3</td>\n",
       "      <td>Christmann, Mr. Emil</td>\n",
       "      <td>male</td>\n",
       "      <td>29.0</td>\n",
       "      <td>0</td>\n",
       "      <td>0</td>\n",
       "      <td>343276</td>\n",
       "      <td>8.0500</td>\n",
       "      <td>NaN</td>\n",
       "      <td>S</td>\n",
       "    </tr>\n",
       "    <tr>\n",
       "      <th>371</th>\n",
       "      <td>372</td>\n",
       "      <td>0</td>\n",
       "      <td>3</td>\n",
       "      <td>Wiklund, Mr. Jakob Alfred</td>\n",
       "      <td>male</td>\n",
       "      <td>18.0</td>\n",
       "      <td>1</td>\n",
       "      <td>0</td>\n",
       "      <td>3101267</td>\n",
       "      <td>6.4958</td>\n",
       "      <td>NaN</td>\n",
       "      <td>S</td>\n",
       "    </tr>\n",
       "  </tbody>\n",
       "</table>\n",
       "</div>"
      ],
      "text/plain": [
       "     PassengerId  Survived  Pclass                                       Name  \\\n",
       "655          656         0       2                  Hickman, Mr. Leonard Mark   \n",
       "598          599         0       3                          Boulos, Mr. Hanna   \n",
       "662          663         0       1                 Colley, Mr. Edward Pomeroy   \n",
       "671          672         0       1                     Davidson, Mr. Thornton   \n",
       "144          145         0       2                 Andrew, Mr. Edgardo Samuel   \n",
       "763          764         1       1  Carter, Mrs. William Ernest (Lucile Polk)   \n",
       "345          346         1       2              Brown, Miss. Amelia \"Mildred\"   \n",
       "79            80         1       3                   Dowdell, Miss. Elizabeth   \n",
       "90            91         0       3                       Christmann, Mr. Emil   \n",
       "371          372         0       3                  Wiklund, Mr. Jakob Alfred   \n",
       "\n",
       "        Sex   Age  SibSp  Parch        Ticket      Fare    Cabin Embarked  \n",
       "655    male  24.0      2      0  S.O.C. 14879   73.5000      NaN        S  \n",
       "598    male   NaN      0      0          2664    7.2250      NaN        C  \n",
       "662    male  47.0      0      0          5727   25.5875      E58        S  \n",
       "671    male  31.0      1      0    F.C. 12750   52.0000      B71        S  \n",
       "144    male  18.0      0      0        231945   11.5000      NaN        S  \n",
       "763  female  36.0      1      2        113760  120.0000  B96 B98        S  \n",
       "345  female  24.0      0      0        248733   13.0000      F33        S  \n",
       "79   female  30.0      0      0        364516   12.4750      NaN        S  \n",
       "90     male  29.0      0      0        343276    8.0500      NaN        S  \n",
       "371    male  18.0      1      0       3101267    6.4958      NaN        S  "
      ]
     },
     "execution_count": 5,
     "metadata": {},
     "output_type": "execute_result"
    }
   ],
   "source": [
    "df=pd.read_csv('https://github.com/prasertcbs/basic-dataset/raw/master/titanic_train.csv')\n",
    "df.sample(n=10)"
   ]
  },
  {
   "cell_type": "code",
   "execution_count": 6,
   "metadata": {},
   "outputs": [
    {
     "name": "stdout",
     "output_type": "stream",
     "text": [
      "<class 'pandas.core.frame.DataFrame'>\n",
      "RangeIndex: 891 entries, 0 to 890\n",
      "Data columns (total 12 columns):\n",
      " #   Column       Non-Null Count  Dtype  \n",
      "---  ------       --------------  -----  \n",
      " 0   PassengerId  891 non-null    int64  \n",
      " 1   Survived     891 non-null    int64  \n",
      " 2   Pclass       891 non-null    int64  \n",
      " 3   Name         891 non-null    object \n",
      " 4   Sex          891 non-null    object \n",
      " 5   Age          714 non-null    float64\n",
      " 6   SibSp        891 non-null    int64  \n",
      " 7   Parch        891 non-null    int64  \n",
      " 8   Ticket       891 non-null    object \n",
      " 9   Fare         891 non-null    float64\n",
      " 10  Cabin        204 non-null    object \n",
      " 11  Embarked     889 non-null    object \n",
      "dtypes: float64(2), int64(5), object(5)\n",
      "memory usage: 83.7+ KB\n"
     ]
    }
   ],
   "source": [
    "df.info()"
   ]
  },
  {
   "cell_type": "markdown",
   "metadata": {},
   "source": [
    "### convert obj/string columns to category data type for lightGBM"
   ]
  },
  {
   "cell_type": "code",
   "execution_count": 7,
   "metadata": {},
   "outputs": [
    {
     "data": {
      "text/plain": [
       "Index(['PassengerId', 'Survived', 'Pclass', 'Name', 'Sex', 'Age', 'SibSp',\n",
       "       'Parch', 'Ticket', 'Fare', 'Cabin', 'Embarked'],\n",
       "      dtype='object')"
      ]
     },
     "execution_count": 7,
     "metadata": {},
     "output_type": "execute_result"
    }
   ],
   "source": [
    "df.columns"
   ]
  },
  {
   "cell_type": "code",
   "execution_count": 8,
   "metadata": {},
   "outputs": [
    {
     "name": "stdout",
     "output_type": "stream",
     "text": [
      "Pclass         : [(0, 1), (1, 2), (2, 3)]\n",
      "------------------------------------------------------------\n",
      "Sex            : [(0, 'female'), (1, 'male')]\n",
      "------------------------------------------------------------\n",
      "Embarked       : [(0, 'C'), (1, 'Q'), (2, 'S')]\n",
      "------------------------------------------------------------\n"
     ]
    }
   ],
   "source": [
    "cols_to_cat=['Pclass', 'Sex', 'Embarked']\n",
    "\n",
    "convert_cols_to_category(df, cols_to_cat)\n",
    "print_category_columns(df)"
   ]
  },
  {
   "cell_type": "code",
   "execution_count": 9,
   "metadata": {},
   "outputs": [
    {
     "name": "stdout",
     "output_type": "stream",
     "text": [
      "<class 'pandas.core.frame.DataFrame'>\n",
      "RangeIndex: 891 entries, 0 to 890\n",
      "Data columns (total 12 columns):\n",
      " #   Column       Non-Null Count  Dtype   \n",
      "---  ------       --------------  -----   \n",
      " 0   PassengerId  891 non-null    int64   \n",
      " 1   Survived     891 non-null    int64   \n",
      " 2   Pclass       891 non-null    category\n",
      " 3   Name         891 non-null    object  \n",
      " 4   Sex          891 non-null    category\n",
      " 5   Age          714 non-null    float64 \n",
      " 6   SibSp        891 non-null    int64   \n",
      " 7   Parch        891 non-null    int64   \n",
      " 8   Ticket       891 non-null    object  \n",
      " 9   Fare         891 non-null    float64 \n",
      " 10  Cabin        204 non-null    object  \n",
      " 11  Embarked     889 non-null    category\n",
      "dtypes: category(3), float64(2), int64(4), object(3)\n",
      "memory usage: 65.8+ KB\n"
     ]
    }
   ],
   "source": [
    "df.info()"
   ]
  },
  {
   "cell_type": "code",
   "execution_count": 10,
   "metadata": {},
   "outputs": [
    {
     "data": {
      "text/plain": [
       "Index(['PassengerId', 'Survived', 'Pclass', 'Name', 'Sex', 'Age', 'SibSp',\n",
       "       'Parch', 'Ticket', 'Fare', 'Cabin', 'Embarked'],\n",
       "      dtype='object')"
      ]
     },
     "execution_count": 10,
     "metadata": {},
     "output_type": "execute_result"
    }
   ],
   "source": [
    "df.columns"
   ]
  },
  {
   "cell_type": "code",
   "execution_count": 11,
   "metadata": {},
   "outputs": [
    {
     "data": {
      "image/png": "[encoded data removed]",
      "text/plain": [
       "<Figure size 864x576 with 8 Axes>"
      ]
     },
     "metadata": {
      "image/png": {
       "height": 579,
       "width": 848
      },
      "needs_background": "light"
     },
     "output_type": "display_data"
    }
   ],
   "source": [
    "cols=['Survived', 'Pclass', 'Sex', 'Age', 'SibSp',\n",
    "       'Parch', 'Fare', 'Embarked']\n",
    "plot_mn(df, cols, 2, 'hist')"
   ]
  },
  {
   "cell_type": "markdown",
   "metadata": {},
   "source": [
    "## lightgbm\n",
    "* `lightGBM` doc: https://lightgbm.readthedocs.io/en/latest/\n",
    "* `LGBMClassifier`: https://lightgbm.readthedocs.io/en/latest/pythonapi/lightgbm.LGBMClassifier.html#lightgbm.LGBMClassifier\n",
    "\n",
    "\n",
    "how to install lightgbm\n",
    "* pip: `pip install -U lightgbm`\n",
    "* conda: `conda install lightgbm`"
   ]
  },
  {
   "cell_type": "code",
   "execution_count": 12,
   "metadata": {},
   "outputs": [
    {
     "name": "stdout",
     "output_type": "stream",
     "text": [
      "lightgbm version 3.1.1\n"
     ]
    }
   ],
   "source": [
    "import lightgbm as lgb\n",
    "print(f'lightgbm version {lgb.__version__}')"
   ]
  },
  {
   "cell_type": "code",
   "execution_count": 13,
   "metadata": {},
   "outputs": [],
   "source": [
    "from sklearn.model_selection import train_test_split, KFold, StratifiedKFold, ShuffleSplit, cross_val_score, cross_val_predict, cross_validate\n",
    "# from sklearn.neighbors import KNeighborsClassifier\n",
    "# from sklearn.linear_model import LogisticRegression\n",
    "# from sklearn.tree import DecisionTreeClassifier\n",
    "# from sklearn.ensemble import RandomForestClassifier, AdaBoostClassifier\n",
    "# from sklearn.svm import SVC\n",
    "\n",
    "from sklearn.metrics import confusion_matrix, plot_confusion_matrix, classification_report, accuracy_score, precision_score, recall_score, precision_recall_fscore_support, f1_score"
   ]
  },
  {
   "cell_type": "code",
   "execution_count": 14,
   "metadata": {},
   "outputs": [
    {
     "data": {
      "text/html": [
       "<div>\n",
       "<style scoped>\n",
       "    .dataframe tbody tr th:only-of-type {\n",
       "        vertical-align: middle;\n",
       "    }\n",
       "\n",
       "    .dataframe tbody tr th {\n",
       "        vertical-align: top;\n",
       "    }\n",
       "\n",
       "    .dataframe thead th {\n",
       "        text-align: right;\n",
       "    }\n",
       "</style>\n",
       "<table border=\"1\" class=\"dataframe\">\n",
       "  <thead>\n",
       "    <tr style=\"text-align: right;\">\n",
       "      <th></th>\n",
       "      <th>PassengerId</th>\n",
       "      <th>Survived</th>\n",
       "      <th>Pclass</th>\n",
       "      <th>Name</th>\n",
       "      <th>Sex</th>\n",
       "      <th>Age</th>\n",
       "      <th>SibSp</th>\n",
       "      <th>Parch</th>\n",
       "      <th>Ticket</th>\n",
       "      <th>Fare</th>\n",
       "      <th>Cabin</th>\n",
       "      <th>Embarked</th>\n",
       "    </tr>\n",
       "  </thead>\n",
       "  <tbody>\n",
       "    <tr>\n",
       "      <th>0</th>\n",
       "      <td>1</td>\n",
       "      <td>0</td>\n",
       "      <td>3</td>\n",
       "      <td>Braund, Mr. Owen Harris</td>\n",
       "      <td>male</td>\n",
       "      <td>22.0</td>\n",
       "      <td>1</td>\n",
       "      <td>0</td>\n",
       "      <td>A/5 21171</td>\n",
       "      <td>7.2500</td>\n",
       "      <td>NaN</td>\n",
       "      <td>S</td>\n",
       "    </tr>\n",
       "    <tr>\n",
       "      <th>1</th>\n",
       "      <td>2</td>\n",
       "      <td>1</td>\n",
       "      <td>1</td>\n",
       "      <td>Cumings, Mrs. John Bradley (Florence Briggs Th...</td>\n",
       "      <td>female</td>\n",
       "      <td>38.0</td>\n",
       "      <td>1</td>\n",
       "      <td>0</td>\n",
       "      <td>PC 17599</td>\n",
       "      <td>71.2833</td>\n",
       "      <td>C85</td>\n",
       "      <td>C</td>\n",
       "    </tr>\n",
       "    <tr>\n",
       "      <th>2</th>\n",
       "      <td>3</td>\n",
       "      <td>1</td>\n",
       "      <td>3</td>\n",
       "      <td>Heikkinen, Miss. Laina</td>\n",
       "      <td>female</td>\n",
       "      <td>26.0</td>\n",
       "      <td>0</td>\n",
       "      <td>0</td>\n",
       "      <td>STON/O2. 3101282</td>\n",
       "      <td>7.9250</td>\n",
       "      <td>NaN</td>\n",
       "      <td>S</td>\n",
       "    </tr>\n",
       "    <tr>\n",
       "      <th>3</th>\n",
       "      <td>4</td>\n",
       "      <td>1</td>\n",
       "      <td>1</td>\n",
       "      <td>Futrelle, Mrs. Jacques Heath (Lily May Peel)</td>\n",
       "      <td>female</td>\n",
       "      <td>35.0</td>\n",
       "      <td>1</td>\n",
       "      <td>0</td>\n",
       "      <td>113803</td>\n",
       "      <td>53.1000</td>\n",
       "      <td>C123</td>\n",
       "      <td>S</td>\n",
       "    </tr>\n",
       "    <tr>\n",
       "      <th>4</th>\n",
       "      <td>5</td>\n",
       "      <td>0</td>\n",
       "      <td>3</td>\n",
       "      <td>Allen, Mr. William Henry</td>\n",
       "      <td>male</td>\n",
       "      <td>35.0</td>\n",
       "      <td>0</td>\n",
       "      <td>0</td>\n",
       "      <td>373450</td>\n",
       "      <td>8.0500</td>\n",
       "      <td>NaN</td>\n",
       "      <td>S</td>\n",
       "    </tr>\n",
       "  </tbody>\n",
       "</table>\n",
       "</div>"
      ],
      "text/plain": [
       "   PassengerId  Survived Pclass  \\\n",
       "0            1         0      3   \n",
       "1            2         1      1   \n",
       "2            3         1      3   \n",
       "3            4         1      1   \n",
       "4            5         0      3   \n",
       "\n",
       "                                                Name     Sex   Age  SibSp  \\\n",
       "0                            Braund, Mr. Owen Harris    male  22.0      1   \n",
       "1  Cumings, Mrs. John Bradley (Florence Briggs Th...  female  38.0      1   \n",
       "2                             Heikkinen, Miss. Laina  female  26.0      0   \n",
       "3       Futrelle, Mrs. Jacques Heath (Lily May Peel)  female  35.0      1   \n",
       "4                           Allen, Mr. William Henry    male  35.0      0   \n",
       "\n",
       "   Parch            Ticket     Fare Cabin Embarked  \n",
       "0      0         A/5 21171   7.2500   NaN        S  \n",
       "1      0          PC 17599  71.2833   C85        C  \n",
       "2      0  STON/O2. 3101282   7.9250   NaN        S  \n",
       "3      0            113803  53.1000  C123        S  \n",
       "4      0            373450   8.0500   NaN        S  "
      ]
     },
     "execution_count": 14,
     "metadata": {},
     "output_type": "execute_result"
    }
   ],
   "source": [
    "df[:5]"
   ]
  },
  {
   "cell_type": "code",
   "execution_count": 15,
   "metadata": {},
   "outputs": [
    {
     "data": {
      "text/plain": [
       "Index(['PassengerId', 'Survived', 'Pclass', 'Name', 'Sex', 'Age', 'SibSp',\n",
       "       'Parch', 'Ticket', 'Fare', 'Cabin', 'Embarked'],\n",
       "      dtype='object')"
      ]
     },
     "execution_count": 15,
     "metadata": {},
     "output_type": "execute_result"
    }
   ],
   "source": [
    "df.columns"
   ]
  },
  {
   "cell_type": "code",
   "execution_count": 16,
   "metadata": {},
   "outputs": [],
   "source": [
    "feature_cols=['Pclass', 'Sex', 'Age', 'SibSp', 'Parch']\n",
    "target_col='Survived'\n",
    "\n",
    "X=df[feature_cols]\n",
    "y=df[target_col]\n",
    "X_train, X_test, y_train, y_test = train_test_split(X, y, \n",
    "                                                    test_size=0.20, \n",
    "                                                    random_state=1, \n",
    "                                                    stratify=y)"
   ]
  },
  {
   "cell_type": "code",
   "execution_count": 17,
   "metadata": {},
   "outputs": [
    {
     "data": {
      "text/plain": [
       "0    439\n",
       "1    273\n",
       "Name: Survived, dtype: int64"
      ]
     },
     "execution_count": 17,
     "metadata": {},
     "output_type": "execute_result"
    }
   ],
   "source": [
    "y_train.value_counts()"
   ]
  },
  {
   "cell_type": "code",
   "execution_count": 18,
   "metadata": {},
   "outputs": [],
   "source": [
    "clf=lgb.LGBMClassifier()"
   ]
  },
  {
   "cell_type": "code",
   "execution_count": 19,
   "metadata": {},
   "outputs": [
    {
     "data": {
      "text/plain": [
       "{'boosting_type': 'gbdt',\n",
       " 'class_weight': None,\n",
       " 'colsample_bytree': 1.0,\n",
       " 'importance_type': 'split',\n",
       " 'learning_rate': 0.1,\n",
       " 'max_depth': -1,\n",
       " 'min_child_samples': 20,\n",
       " 'min_child_weight': 0.001,\n",
       " 'min_split_gain': 0.0,\n",
       " 'n_estimators': 100,\n",
       " 'n_jobs': -1,\n",
       " 'num_leaves': 31,\n",
       " 'objective': None,\n",
       " 'random_state': None,\n",
       " 'reg_alpha': 0.0,\n",
       " 'reg_lambda': 0.0,\n",
       " 'silent': True,\n",
       " 'subsample': 1.0,\n",
       " 'subsample_for_bin': 200000,\n",
       " 'subsample_freq': 0}"
      ]
     },
     "execution_count": 19,
     "metadata": {},
     "output_type": "execute_result"
    }
   ],
   "source": [
    "clf.get_params()"
   ]
  },
  {
   "cell_type": "code",
   "execution_count": 20,
   "metadata": {},
   "outputs": [],
   "source": [
    "# tuning parameters: https://lightgbm.readthedocs.io/en/latest/Parameters-Tuning.html\n",
    "# https://sites.google.com/view/lauraepp/parameters\n",
    "params={'boosting_type': 'gbdt',\n",
    " 'class_weight': None,\n",
    " 'colsample_bytree': 1.0,\n",
    " 'importance_type': 'split',\n",
    " 'learning_rate': 0.1,\n",
    " 'max_depth': -1,\n",
    " 'min_child_samples': 20,\n",
    " 'min_child_weight': 0.001,\n",
    " 'min_split_gain': 0.0,\n",
    " 'n_estimators': 100,\n",
    " 'n_jobs': -1,\n",
    " 'num_leaves': 31,\n",
    " 'objective': None,\n",
    " 'random_state': None,\n",
    " 'reg_alpha': 0.0,\n",
    " 'reg_lambda': 0.0,\n",
    " 'silent': True,\n",
    " 'subsample': 1.0,\n",
    " 'subsample_for_bin': 200000,\n",
    " 'subsample_freq': 0}\n",
    "\n",
    "# clf = lgb.LGBMClassifier(**params)"
   ]
  },
  {
   "cell_type": "code",
   "execution_count": 21,
   "metadata": {},
   "outputs": [
    {
     "name": "stdout",
     "output_type": "stream",
     "text": [
      "Training until validation scores don't improve for 100 rounds\n",
      "[10]\tvalid_0's auc: 0.861001\tvalid_0's binary_logloss: 0.462338\n",
      "[20]\tvalid_0's auc: 0.86996\tvalid_0's binary_logloss: 0.419414\n",
      "[30]\tvalid_0's auc: 0.868709\tvalid_0's binary_logloss: 0.409488\n",
      "[40]\tvalid_0's auc: 0.869829\tvalid_0's binary_logloss: 0.410124\n",
      "[50]\tvalid_0's auc: 0.866601\tvalid_0's binary_logloss: 0.415623\n",
      "[60]\tvalid_0's auc: 0.863175\tvalid_0's binary_logloss: 0.421308\n",
      "[70]\tvalid_0's auc: 0.855995\tvalid_0's binary_logloss: 0.425925\n",
      "[80]\tvalid_0's auc: 0.855731\tvalid_0's binary_logloss: 0.429418\n",
      "[90]\tvalid_0's auc: 0.854677\tvalid_0's binary_logloss: 0.434468\n",
      "[100]\tvalid_0's auc: 0.854414\tvalid_0's binary_logloss: 0.436328\n",
      "Did not meet early stopping. Best iteration is:\n",
      "[35]\tvalid_0's auc: 0.874111\tvalid_0's binary_logloss: 0.407121\n"
     ]
    },
    {
     "data": {
      "text/plain": [
       "LGBMClassifier()"
      ]
     },
     "execution_count": 21,
     "metadata": {},
     "output_type": "execute_result"
    }
   ],
   "source": [
    "# eval_metric: https://lightgbm.readthedocs.io/en/latest/Parameters.html?highlight=metric#metric-parameters\n",
    "fit_params={'early_stopping_rounds':100, \n",
    "            'eval_metric': 'auc', # [binary_logloss, auc]\n",
    "            'eval_set': [(X_test, y_test)],\n",
    "            'verbose': 10\n",
    "           }\n",
    "\n",
    "clf.fit(X_train, y_train, **fit_params)"
   ]
  },
  {
   "cell_type": "code",
   "execution_count": 22,
   "metadata": {},
   "outputs": [
    {
     "data": {
      "text/plain": [
       "{'boosting_type': 'gbdt',\n",
       " 'objective': None,\n",
       " 'num_leaves': 31,\n",
       " 'max_depth': -1,\n",
       " 'learning_rate': 0.1,\n",
       " 'n_estimators': 100,\n",
       " 'subsample_for_bin': 200000,\n",
       " 'min_split_gain': 0.0,\n",
       " 'min_child_weight': 0.001,\n",
       " 'min_child_samples': 20,\n",
       " 'subsample': 1.0,\n",
       " 'subsample_freq': 0,\n",
       " 'colsample_bytree': 1.0,\n",
       " 'reg_alpha': 0.0,\n",
       " 'reg_lambda': 0.0,\n",
       " 'random_state': None,\n",
       " 'n_jobs': -1,\n",
       " 'silent': True,\n",
       " 'importance_type': 'split',\n",
       " '_Booster': <lightgbm.basic.Booster at 0x27d9b7765c8>,\n",
       " '_evals_result': {'valid_0': OrderedDict([('auc',\n",
       "                [0.8640316205533597,\n",
       "                 0.8654150197628458,\n",
       "                 0.8624505928853755,\n",
       "                 0.8602766798418973,\n",
       "                 0.8601449275362318,\n",
       "                 0.8635046113306983,\n",
       "                 0.8617918313570487,\n",
       "                 0.8586297760210804,\n",
       "                 0.8600790513833992,\n",
       "                 0.8610013175230566,\n",
       "                 0.8648221343873518,\n",
       "                 0.8668642951251647,\n",
       "                 0.8694993412384717,\n",
       "                 0.8672595520421608,\n",
       "                 0.8677865612648221,\n",
       "                 0.8711462450592885,\n",
       "                 0.8681159420289855,\n",
       "                 0.8700263504611331,\n",
       "                 0.8704216073781291,\n",
       "                 0.8699604743083004,\n",
       "                 0.8691699604743083,\n",
       "                 0.8678524374176548,\n",
       "                 0.8689064558629777,\n",
       "                 0.8679841897233201,\n",
       "                 0.8693017127799737,\n",
       "                 0.8689064558629777,\n",
       "                 0.8685111989459815,\n",
       "                 0.8674571805006588,\n",
       "                 0.8691699604743083,\n",
       "                 0.8687088274044796,\n",
       "                 0.8710803689064559,\n",
       "                 0.8729249011857707,\n",
       "                 0.8733201581027668,\n",
       "                 0.8737812911725955,\n",
       "                 0.8741106719367588,\n",
       "                 0.8717391304347826,\n",
       "                 0.8727272727272727,\n",
       "                 0.8696969696969697,\n",
       "                 0.8696969696969697,\n",
       "                 0.8698287220026351,\n",
       "                 0.8687747035573122,\n",
       "                 0.8684453227931489,\n",
       "                 0.8672595520421608,\n",
       "                 0.8675230566534914,\n",
       "                 0.8675230566534914,\n",
       "                 0.8675230566534914,\n",
       "                 0.8667325428194993,\n",
       "                 0.8660737812911726,\n",
       "                 0.8650197628458498,\n",
       "                 0.866600790513834,\n",
       "                 0.8670619235836627,\n",
       "                 0.8628458498023716,\n",
       "                 0.8616600790513834,\n",
       "                 0.8633728590250329,\n",
       "                 0.858102766798419,\n",
       "                 0.8611989459815547,\n",
       "                 0.8633069828722003,\n",
       "                 0.8631752305665349,\n",
       "                 0.8631752305665349,\n",
       "                 0.8631752305665349,\n",
       "                 0.8634387351778656,\n",
       "                 0.8617918313570487,\n",
       "                 0.8582345191040843,\n",
       "                 0.8567852437417655,\n",
       "                 0.8592885375494071,\n",
       "                 0.8587615283267457,\n",
       "                 0.8582345191040843,\n",
       "                 0.855467720685112,\n",
       "                 0.855862977602108,\n",
       "                 0.8559947299077734,\n",
       "                 0.855862977602108,\n",
       "                 0.8559947299077734,\n",
       "                 0.855072463768116,\n",
       "                 0.8544137022397892,\n",
       "                 0.8546772068511199,\n",
       "                 0.8546772068511199,\n",
       "                 0.8549407114624505,\n",
       "                 0.855467720685112,\n",
       "                 0.8552042160737813,\n",
       "                 0.8557312252964426,\n",
       "                 0.8557312252964426,\n",
       "                 0.8557312252964426,\n",
       "                 0.8566534914361001,\n",
       "                 0.8541501976284585,\n",
       "                 0.8538866930171278,\n",
       "                 0.8537549407114624,\n",
       "                 0.8538866930171278,\n",
       "                 0.8544137022397892,\n",
       "                 0.8545454545454545,\n",
       "                 0.8546772068511199,\n",
       "                 0.8541501976284585,\n",
       "                 0.8546772068511199,\n",
       "                 0.8567852437417655,\n",
       "                 0.8546772068511199,\n",
       "                 0.855467720685112,\n",
       "                 0.8557312252964426,\n",
       "                 0.8555994729907773,\n",
       "                 0.8549407114624505,\n",
       "                 0.8546772068511199,\n",
       "                 0.8544137022397892]),\n",
       "               ('binary_logloss',\n",
       "                [0.6233877205092359,\n",
       "                 0.5893034884355767,\n",
       "                 0.561592908417289,\n",
       "                 0.5398473967496465,\n",
       "                 0.5209183224843629,\n",
       "                 0.5054743141696416,\n",
       "                 0.4925500770327454,\n",
       "                 0.4828929053144366,\n",
       "                 0.4728285204732589,\n",
       "                 0.46233781621360104,\n",
       "                 0.4525673532409725,\n",
       "                 0.44546597156700735,\n",
       "                 0.4401784756273635,\n",
       "                 0.4353350163186483,\n",
       "                 0.43093033978758793,\n",
       "                 0.42808161284430873,\n",
       "                 0.42632361940638985,\n",
       "                 0.42292819475540744,\n",
       "                 0.42098935192919296,\n",
       "                 0.4194136532288617,\n",
       "                 0.4195426815225278,\n",
       "                 0.4181785002642098,\n",
       "                 0.4162261281167709,\n",
       "                 0.41567000043587016,\n",
       "                 0.41350848089674325,\n",
       "                 0.41364994290566953,\n",
       "                 0.41182230363259564,\n",
       "                 0.4110223203198786,\n",
       "                 0.41010478252560334,\n",
       "                 0.4094881451540503,\n",
       "                 0.4087770512015347,\n",
       "                 0.4071227445875997,\n",
       "                 0.406979308438184,\n",
       "                 0.4082483264854309,\n",
       "                 0.40712142119499817,\n",
       "                 0.40853013016688344,\n",
       "                 0.4093354302415486,\n",
       "                 0.4099317488817458,\n",
       "                 0.40996784502956435,\n",
       "                 0.41012417547517027,\n",
       "                 0.4112669742311126,\n",
       "                 0.4128285466062935,\n",
       "                 0.4127481419117535,\n",
       "                 0.41131136096816645,\n",
       "                 0.41295705902192326,\n",
       "                 0.4132478387690375,\n",
       "                 0.4142954014991349,\n",
       "                 0.4146404180294693,\n",
       "                 0.41613156536731877,\n",
       "                 0.4156234556891624,\n",
       "                 0.41687428751206945,\n",
       "                 0.4170176149101356,\n",
       "                 0.4171084561684927,\n",
       "                 0.4187062477055194,\n",
       "                 0.42004265980275457,\n",
       "                 0.41997400414568,\n",
       "                 0.4194106644698768,\n",
       "                 0.42040200337661937,\n",
       "                 0.42117388266592454,\n",
       "                 0.42130766188065344,\n",
       "                 0.4214725801910439,\n",
       "                 0.4224456050354066,\n",
       "                 0.4234870016713498,\n",
       "                 0.4226138855565153,\n",
       "                 0.42278368530499466,\n",
       "                 0.42309680365788666,\n",
       "                 0.42365962970748366,\n",
       "                 0.4248955008156776,\n",
       "                 0.4250925353124987,\n",
       "                 0.42592470721430337,\n",
       "                 0.4259062177626739,\n",
       "                 0.42502057343960264,\n",
       "                 0.42626122768032265,\n",
       "                 0.42682074175710827,\n",
       "                 0.4282395633577376,\n",
       "                 0.4285506697566535,\n",
       "                 0.42913296125978284,\n",
       "                 0.4294533919549382,\n",
       "                 0.43001523366350786,\n",
       "                 0.42941848623593626,\n",
       "                 0.43025751827668335,\n",
       "                 0.43059912695716573,\n",
       "                 0.4314057360707729,\n",
       "                 0.4314516776795512,\n",
       "                 0.43294684665801986,\n",
       "                 0.4343630203203608,\n",
       "                 0.4342475445932968,\n",
       "                 0.4339779973786915,\n",
       "                 0.43447035151333613,\n",
       "                 0.43446825540870554,\n",
       "                 0.43452715983707746,\n",
       "                 0.4346996232856435,\n",
       "                 0.4354184258572866,\n",
       "                 0.4353821921352729,\n",
       "                 0.4356627439529906,\n",
       "                 0.43464541892649344,\n",
       "                 0.4345601425928359,\n",
       "                 0.4351996563768108,\n",
       "                 0.43506459380732954,\n",
       "                 0.4363280119815243])])},\n",
       " '_best_score': defaultdict(collections.OrderedDict,\n",
       "             {'valid_0': OrderedDict([('auc', 0.8741106719367588),\n",
       "                           ('binary_logloss', 0.40712142119499817)])}),\n",
       " '_best_iteration': 35,\n",
       " '_other_params': {},\n",
       " '_objective': 'binary',\n",
       " 'class_weight': None,\n",
       " '_class_weight': None,\n",
       " '_class_map': {0: 0, 1: 1},\n",
       " '_n_features': 5,\n",
       " '_n_features_in': 5,\n",
       " '_classes': array([0, 1], dtype=int64),\n",
       " '_n_classes': 2,\n",
       " '_le': LabelEncoder(),\n",
       " '_fobj': None,\n",
       " 'fitted_': True}"
      ]
     },
     "execution_count": 22,
     "metadata": {},
     "output_type": "execute_result"
    }
   ],
   "source": [
    "clf.__dict__"
   ]
  },
  {
   "cell_type": "code",
   "execution_count": null,
   "metadata": {},
   "outputs": [
    {
     "data": {
      "text/plain": [
       "<AxesSubplot:title={'center':'Metric during training'}, xlabel='Iterations', ylabel='binary_logloss'>"
      ]
     },
     "execution_count": 23,
     "metadata": {},
     "output_type": "execute_result"
    }
   ],
   "source": [
    "lgb.plot_metric(clf, metric='binary_logloss')"
   ]
  },
  {
   "cell_type": "code",
   "execution_count": null,
   "metadata": {},
   "outputs": [],
   "source": [
    "lgb.plot_metric(clf, metric='auc')"
   ]
  },
  {
   "cell_type": "code",
   "execution_count": null,
   "metadata": {},
   "outputs": [],
   "source": [
    "clf.score(X_train, y_train) # classification accuracy score"
   ]
  },
  {
   "cell_type": "code",
   "execution_count": null,
   "metadata": {},
   "outputs": [],
   "source": [
    "clf.score(X_test, y_test) # classification accuracy score"
   ]
  },
  {
   "cell_type": "code",
   "execution_count": null,
   "metadata": {},
   "outputs": [],
   "source": [
    "clf.predict(X_test)[:20]"
   ]
  },
  {
   "cell_type": "code",
   "execution_count": null,
   "metadata": {},
   "outputs": [],
   "source": [
    "clf.predict_proba(X_test)[:20]"
   ]
  },
  {
   "cell_type": "markdown",
   "metadata": {},
   "source": [
    "### confusion matrix\n",
    "$$\n",
    "\\begin{bmatrix}\n",
    "C_{0,0} & C_{0,1} \\\\\n",
    "C_{1,0} & C_{1,1}\n",
    "\\end{bmatrix}\n",
    "=\n",
    "\\begin{bmatrix}\n",
    "tn&fp \\\\\n",
    "fn&tp\n",
    "\\end{bmatrix}\n",
    "$$\n",
    "\n",
    "<table>\n",
    "<tr>\n",
    "    <td></td>\n",
    "    <td>predicted false</td>\n",
    "    <td>predicted true</td>\n",
    "</tr>\n",
    "<tr>\n",
    "    <td>actual false</td>\n",
    "    <td>tn</td>\n",
    "    <td>fp</td>\n",
    "</tr>\n",
    "<tr>\n",
    "    <td>actual true</td>\n",
    "    <td>fn</td>\n",
    "    <td>tp</td>\n",
    "</tr>\n",
    "<table>"
   ]
  },
  {
   "cell_type": "code",
   "execution_count": null,
   "metadata": {},
   "outputs": [],
   "source": [
    "cm=confusion_matrix(y_test, clf.predict(X_test))\n",
    "cm"
   ]
  },
  {
   "cell_type": "code",
   "execution_count": null,
   "metadata": {},
   "outputs": [],
   "source": [
    "plt.rcParams['font.size']=13\n",
    "plot_confusion_matrix(clf, X_test, y_test, cmap='Oranges', display_labels=['dead', 'survived'])"
   ]
  },
  {
   "cell_type": "markdown",
   "metadata": {},
   "source": [
    "$$\n",
    "\\begin{align}\n",
    "\\text {Accuracy}&={\\frac {{TP+TN} }{TP + TN +FP + FN} }\\\\\n",
    "\\text {Precision}&={\\frac {TP}{TP+FP}}\\\\\n",
    "\\text {Recall, True Positive Rate (TPR), sensitivity}&={\\frac {TP}{TP+FN}}\\\\\n",
    "\\text {False Positive Rate (FPR), miss rate}&={\\frac {FP}{FP+TN}}\\\\\n",
    "F1&=2 \\times {\\frac {precision \\times recall} {precision + recall}}\\\\\n",
    "\\end{align}\n",
    "$$"
   ]
  },
  {
   "cell_type": "markdown",
   "metadata": {},
   "source": [
    "$$\n",
    "\\begin{align}\n",
    "Recall_0&={\\frac {TN}{TN+FP}}\\\\\n",
    "Recall_1&={\\frac {TP}{TP+FN}}\\\\\n",
    "Precision_0&={\\frac {TN}{TN+FN}}\\\\\n",
    "Precision_1&={\\frac {TP}{TP+FP}}\\\\\n",
    "\\end{align}\n",
    "$$"
   ]
  },
  {
   "cell_type": "code",
   "execution_count": null,
   "metadata": {},
   "outputs": [],
   "source": [
    "print(classification_report(y_train, clf.predict(X_train)))"
   ]
  },
  {
   "cell_type": "code",
   "execution_count": null,
   "metadata": {},
   "outputs": [],
   "source": [
    "print(classification_report(y_test, clf.predict(X_test)))"
   ]
  },
  {
   "cell_type": "code",
   "execution_count": null,
   "metadata": {},
   "outputs": [],
   "source": [
    "# explore threshold\n",
    "def precision(cfm):\n",
    "    '''\n",
    "    precision\n",
    "    '''\n",
    "    tn, fp, fn, tp = cfm.ravel()\n",
    "    return tp / (tp + fp)\n",
    "\n",
    "def tpr(cfm):\n",
    "    '''\n",
    "    true positive rate (recall)\n",
    "    '''\n",
    "    tn, fp, fn, tp = cfm.ravel()\n",
    "    return tp / (tp + fn)\n",
    "\n",
    "def fpr(cfm):\n",
    "    '''\n",
    "    false positive rate'''\n",
    "    tn, fp, fn, tp = cfm.ravel()\n",
    "    return fp / (fp + tn)\n",
    "\n",
    "def cm(model, X, y, thres=.5):\n",
    "    '''\n",
    "    confusion matrix at a given threshold\n",
    "    '''\n",
    "    y_pred_tmp=np.where(model.predict_proba(X)[:, 1] >= thres, 1, 0)\n",
    "    return confusion_matrix(y, y_pred_tmp)\n",
    "\n",
    "def varying_threshold(model, X, y, thresholds=np.linspace(0.05, .95, 15)):\n",
    "    for thres in thresholds:\n",
    "        cfm=cm(model, X, y, thres)\n",
    "        print(f'threshold={thres:.2f}, TPR = {tpr(cfm):.2f}, FPR = {fpr(cfm):.2f}, precision = {precision(cfm):.2f}');    \n",
    "        print(cfm)\n",
    "        print('-' * 100)\n",
    "        \n",
    "varying_threshold(clf, X_test, y_test)"
   ]
  },
  {
   "cell_type": "markdown",
   "metadata": {},
   "source": [
    "### cross validation"
   ]
  },
  {
   "cell_type": "code",
   "execution_count": null,
   "metadata": {},
   "outputs": [],
   "source": [
    "scores = cross_val_score(clf, X, y, cv=5, scoring='accuracy')\n",
    "print(scores)\n",
    "print(f'mean scores = {scores.mean()}, sd={scores.std():.4f}')                                              "
   ]
  },
  {
   "cell_type": "markdown",
   "metadata": {},
   "source": [
    "### feature importances"
   ]
  },
  {
   "cell_type": "code",
   "execution_count": null,
   "metadata": {},
   "outputs": [],
   "source": [
    "clf.feature_importances_"
   ]
  },
  {
   "cell_type": "code",
   "execution_count": null,
   "metadata": {},
   "outputs": [],
   "source": [
    "X.columns"
   ]
  },
  {
   "cell_type": "code",
   "execution_count": null,
   "metadata": {},
   "outputs": [],
   "source": [
    "feature_importances=pd.Series(clf.feature_importances_, index=X.columns).sort_values(ascending=False)\n",
    "feature_importances"
   ]
  },
  {
   "cell_type": "code",
   "execution_count": null,
   "metadata": {},
   "outputs": [],
   "source": [
    "pd.DataFrame(feature_importances).style.background_gradient(cmap=\"Oranges\")"
   ]
  },
  {
   "cell_type": "code",
   "execution_count": null,
   "metadata": {},
   "outputs": [],
   "source": [
    "lgb.plot_importance(clf, figsize=(10, 7), height=.5)"
   ]
  },
  {
   "cell_type": "markdown",
   "metadata": {},
   "source": [
    "### tree diagram\n",
    "* **install graphviz on Windows**\n",
    "1. install graphviz: `pip install -U graphviz`\n",
    "1. download graphviz: https://www2.graphviz.org/Packages/stable/windows/10/msbuild/Release/Win32/\n",
    "1. extract and copy to: `C:\\Program Files (x86)\\Graphviz\\bin`\n",
    "1. add `C:\\Program Files (x86)\\Graphviz\\bin` to `PATH` enviroment variable"
   ]
  },
  {
   "cell_type": "code",
   "execution_count": null,
   "metadata": {},
   "outputs": [],
   "source": [
    "print_category_columns(df)"
   ]
  },
  {
   "cell_type": "code",
   "execution_count": null,
   "metadata": {},
   "outputs": [],
   "source": [
    "lgb.create_tree_digraph(clf, orientation='vertical')"
   ]
  },
  {
   "cell_type": "code",
   "execution_count": null,
   "metadata": {},
   "outputs": [],
   "source": [
    "# show_info=['split_gain', 'leaf_count', 'leaf_weight', 'internal_value', 'data_percentage']\n",
    "show_info=['leaf_weight', 'internal_value', 'data_percentage']\n",
    "orientation='horizontal'"
   ]
  },
  {
   "cell_type": "code",
   "execution_count": null,
   "metadata": {},
   "outputs": [],
   "source": [
    "lgb.create_tree_digraph(clf, orientation=orientation, show_info=show_info)"
   ]
  },
  {
   "cell_type": "code",
   "execution_count": null,
   "metadata": {},
   "outputs": [],
   "source": [
    "lgb.create_tree_digraph(clf, orientation=orientation, tree_index=0, show_info=show_info)"
   ]
  },
  {
   "cell_type": "code",
   "execution_count": null,
   "metadata": {},
   "outputs": [],
   "source": [
    "lgb.create_tree_digraph(clf, orientation=orientation, tree_index=1, show_info=show_info)"
   ]
  },
  {
   "cell_type": "code",
   "execution_count": null,
   "metadata": {},
   "outputs": [],
   "source": [
    "lgb.create_tree_digraph(clf, orientation=orientation, tree_index=2, show_info=show_info)"
   ]
  },
  {
   "cell_type": "code",
   "execution_count": null,
   "metadata": {},
   "outputs": [],
   "source": [
    "lgb.create_tree_digraph(clf, orientation=orientation, tree_index=3, show_info=show_info)"
   ]
  },
  {
   "cell_type": "code",
   "execution_count": null,
   "metadata": {},
   "outputs": [],
   "source": [
    "lgb.create_tree_digraph(clf, orientation=orientation, tree_index=4, show_info=show_info)"
   ]
  },
  {
   "cell_type": "code",
   "execution_count": null,
   "metadata": {},
   "outputs": [],
   "source": [
    "lgb.create_tree_digraph(clf, orientation=orientation, tree_index=5, show_info=show_info)"
   ]
  },
  {
   "cell_type": "code",
   "execution_count": null,
   "metadata": {},
   "outputs": [],
   "source": [
    "lgb.create_tree_digraph(clf, orientation=orientation, tree_index=6, show_info=show_info)"
   ]
  },
  {
   "cell_type": "code",
   "execution_count": null,
   "metadata": {},
   "outputs": [],
   "source": [
    "lgb.create_tree_digraph(clf, orientation=orientation, tree_index=7, show_info=show_info)"
   ]
  },
  {
   "cell_type": "code",
   "execution_count": null,
   "metadata": {},
   "outputs": [],
   "source": [
    "lgb.create_tree_digraph(clf, orientation=orientation, tree_index=8, show_info=show_info)"
   ]
  },
  {
   "cell_type": "code",
   "execution_count": null,
   "metadata": {},
   "outputs": [],
   "source": [
    "lgb.create_tree_digraph(clf, orientation=orientation, tree_index=34, show_info=show_info)"
   ]
  },
  {
   "cell_type": "code",
   "execution_count": null,
   "metadata": {},
   "outputs": [],
   "source": [
    "g=lgb.create_tree_digraph(clf, orientation='vertical')\n",
    "\n",
    "# g.format='svg'\n",
    "# g.format='png'\n",
    "# g.format='pdf'\n",
    "# g.render('tree.gv', view=True)"
   ]
  },
  {
   "cell_type": "markdown",
   "metadata": {},
   "source": [
    "## SHAP"
   ]
  },
  {
   "cell_type": "code",
   "execution_count": null,
   "metadata": {},
   "outputs": [],
   "source": [
    "import shap\n",
    "\n",
    "# load JS visualization code to notebook\n",
    "shap.initjs()\n",
    "\n",
    "# explain the model's predictions using SHAP\n",
    "explainer = shap.TreeExplainer(clf)\n",
    "shap_values = explainer.shap_values(X)"
   ]
  },
  {
   "cell_type": "markdown",
   "metadata": {},
   "source": [
    "$$\n",
    "\\begin{align}\n",
    "\\text{odds}&=\\frac{p}{1-p} \\\\ \\\\\n",
    "\\text{log odds or logit} (\\textbf{logi}\\text{stic un}\\textbf{it})&=ln(\\frac{p}{1-p}) \\\\ \\\\\n",
    "p&=\\frac{odds}{1+odds}\n",
    "\\end{align}\n",
    "$$"
   ]
  },
  {
   "cell_type": "markdown",
   "metadata": {},
   "source": [
    "$$\n",
    "\\begin{align}\n",
    "logit&=ln(\\frac{p}{1-p}) \\\\ \\\\\n",
    "\\text{how to inverse } logit \\\\ \\\\\n",
    "ln(\\frac{p}{1-p})&=ln(odds) \\\\ \\\\\n",
    "\\frac{p}{1-p}&=e^{ln(odds)} \\\\ \\\\\n",
    "p&=(1-p)e^{ln(odds)} \\\\ \\\\\n",
    "p&=e^{ln(odds)}-p\\cdot e^{ln(odds)} \\\\ \\\\\n",
    "p+p\\cdot e^{ln(odds)}&=e^{ln(odds)} \\\\ \\\\\n",
    "p(1+e^{ln(odds)})&=e^{ln(odds)} \\\\ \\\\\n",
    "p&=\\frac{e^{ln(odds)}}{1+e^{ln(odds)}} \\\\ \\\\\n",
    "p&=\\frac{1}{1+e^{-ln(odds)}} \\\\ \\\\\n",
    "\\end{align}\n",
    "$$"
   ]
  },
  {
   "cell_type": "code",
   "execution_count": null,
   "metadata": {},
   "outputs": [],
   "source": [
    "p=np.arange(0, 1, .01)\n",
    "y=np.log(p/(1-p))\n",
    "\n",
    "plt.plot(p, y)\n",
    "plt.grid(True)\n",
    "plt.axvline(.5, color='red')\n",
    "plt.ylabel('ln(odds) or logit')"
   ]
  },
  {
   "cell_type": "code",
   "execution_count": null,
   "metadata": {},
   "outputs": [],
   "source": [
    "x=np.arange(-10, 10, .5)\n",
    "y=1/(1+np.exp(-x))\n",
    "\n",
    "plt.plot(x, y)\n",
    "plt.grid(True)\n",
    "plt.axhline(.5, color='red')\n",
    "plt.ylabel('prob')"
   ]
  },
  {
   "cell_type": "code",
   "execution_count": null,
   "metadata": {},
   "outputs": [],
   "source": [
    "def sigmoid(x):\n",
    "    return 1/(1+np.exp(-x))\n",
    "\n",
    "def log_odds_to_prob(x):\n",
    "    return 1-1/(1+np.exp(x))\n",
    "\n",
    "def logit_to_prob(logit):\n",
    "    odds=np.exp(logit)\n",
    "    return odds / (1 + odds)\n",
    "\n",
    "def odds(p):\n",
    "    return p/(1-p)\n",
    "\n",
    "def case_detail(case_data):\n",
    "    '''\n",
    "    format obj returned from shap.force_plot()\n",
    "    '''\n",
    "    de=pd.DataFrame(case_data.data['features'])\n",
    "    fcols=[]\n",
    "    for i in case_data.data['features'].keys():\n",
    "        fcols.append(case_data.data['featureNames'][i])\n",
    "    de.columns=fcols\n",
    "    return de\n",
    "\n",
    "def individual_case_plot(explainer, X, case_index, class_no=1, link='logit', verbose=False):\n",
    "    \"\"\"\n",
    "    >>> individual_case_plot(explainer, X_train, 1)\n",
    "    \"\"\"\n",
    "#     link='identity' # show value as log-odds\n",
    "#     link='logit' # show value as prob\n",
    "    shap_values = explainer.shap_values(X.iloc[[case_index]])[class_no]\n",
    "    g=shap.force_plot(explainer.expected_value[class_no], shap_values=shap_values, features=X.iloc[case_index, :], link=link)\n",
    "    if verbose:\n",
    "        print(f'predict_proba = {clf.predict_proba(X.iloc[[case_index]])}')\n",
    "        p=logit_to_prob(g.data['outValue'])\n",
    "        print(f'p={p:.4f}, odds={odds(p):.2f}')\n",
    "        pprint(g.__dict__)\n",
    "    return g"
   ]
  },
  {
   "cell_type": "code",
   "execution_count": null,
   "metadata": {},
   "outputs": [],
   "source": [
    "len(shap_values)"
   ]
  },
  {
   "cell_type": "code",
   "execution_count": null,
   "metadata": {},
   "outputs": [],
   "source": [
    "shap_values[1].shape"
   ]
  },
  {
   "cell_type": "code",
   "execution_count": null,
   "metadata": {},
   "outputs": [],
   "source": [
    "shap_values[0] # class = 0 (dead)"
   ]
  },
  {
   "cell_type": "code",
   "execution_count": null,
   "metadata": {},
   "outputs": [],
   "source": [
    "shap_values[1] # class = 1 (survived)"
   ]
  },
  {
   "cell_type": "code",
   "execution_count": null,
   "metadata": {},
   "outputs": [],
   "source": [
    "dshap=pd.DataFrame(shap_values[1], columns=feature_cols)\n",
    "dshap"
   ]
  },
  {
   "cell_type": "markdown",
   "metadata": {},
   "source": [
    "### feature importances"
   ]
  },
  {
   "cell_type": "code",
   "execution_count": null,
   "metadata": {},
   "outputs": [],
   "source": [
    "np.abs(dshap).mean().sort_values(ascending=False)"
   ]
  },
  {
   "cell_type": "code",
   "execution_count": null,
   "metadata": {},
   "outputs": [],
   "source": [
    "shap.summary_plot(shap_values[1], X, plot_type=\"bar\")"
   ]
  },
  {
   "cell_type": "code",
   "execution_count": null,
   "metadata": {},
   "outputs": [],
   "source": [
    "shap.summary_plot(shap_values[1], X)"
   ]
  },
  {
   "cell_type": "markdown",
   "metadata": {},
   "source": [
    "### dependence_plot"
   ]
  },
  {
   "cell_type": "code",
   "execution_count": null,
   "metadata": {},
   "outputs": [],
   "source": [
    "X.info()"
   ]
  },
  {
   "cell_type": "code",
   "execution_count": null,
   "metadata": {},
   "outputs": [],
   "source": [
    "class_no=1"
   ]
  },
  {
   "cell_type": "code",
   "execution_count": null,
   "metadata": {},
   "outputs": [],
   "source": [
    "shap.dependence_plot('Pclass', shap_values=shap_values[class_no], features=X, interaction_index='Sex')    "
   ]
  },
  {
   "cell_type": "code",
   "execution_count": null,
   "metadata": {},
   "outputs": [],
   "source": [
    "shap.dependence_plot('Sex', shap_values=shap_values[class_no], features=X, interaction_index='Pclass')    "
   ]
  },
  {
   "cell_type": "code",
   "execution_count": null,
   "metadata": {},
   "outputs": [],
   "source": [
    "shap.dependence_plot('Pclass', shap_values=shap_values[class_no], features=X, interaction_index='Age')    "
   ]
  },
  {
   "cell_type": "code",
   "execution_count": null,
   "metadata": {},
   "outputs": [],
   "source": [
    "shap.dependence_plot('Age', shap_values=shap_values[class_no], features=X, interaction_index='Pclass')    "
   ]
  },
  {
   "cell_type": "code",
   "execution_count": null,
   "metadata": {},
   "outputs": [],
   "source": [
    "class_no=1\n",
    "for c in feature_cols:\n",
    "    shap.dependence_plot(c, shap_values=shap_values[class_no], features=X)    "
   ]
  },
  {
   "cell_type": "markdown",
   "metadata": {},
   "source": [
    "### interpret case(s)"
   ]
  },
  {
   "cell_type": "code",
   "execution_count": null,
   "metadata": {},
   "outputs": [],
   "source": [
    "shap_values[1][:5]"
   ]
  },
  {
   "cell_type": "code",
   "execution_count": null,
   "metadata": {},
   "outputs": [],
   "source": [
    "X[:5]"
   ]
  },
  {
   "cell_type": "code",
   "execution_count": null,
   "metadata": {},
   "outputs": [],
   "source": [
    "case_index=0\n",
    "X.iloc[[case_index]]"
   ]
  },
  {
   "cell_type": "code",
   "execution_count": null,
   "metadata": {},
   "outputs": [],
   "source": [
    "explainer.shap_values(X.iloc[[case_index]])[1]"
   ]
  },
  {
   "cell_type": "code",
   "execution_count": null,
   "metadata": {},
   "outputs": [],
   "source": [
    "clf.predict_proba(X[:5])"
   ]
  },
  {
   "cell_type": "code",
   "execution_count": null,
   "metadata": {},
   "outputs": [],
   "source": [
    "clf.predict(X[:5])"
   ]
  },
  {
   "cell_type": "code",
   "execution_count": null,
   "metadata": {},
   "outputs": [],
   "source": [
    "g=individual_case_plot(explainer, X, case_index=0, class_no=1, link='identity') # link='identity' will show log odds value\n",
    "g"
   ]
  },
  {
   "cell_type": "code",
   "execution_count": null,
   "metadata": {},
   "outputs": [],
   "source": [
    "g.__dict__"
   ]
  },
  {
   "cell_type": "code",
   "execution_count": null,
   "metadata": {},
   "outputs": [],
   "source": [
    "g=individual_case_plot(explainer, X, case_index=0, class_no=1, link='logit') # link='logit' will change log-odds number into probability\n",
    "g"
   ]
  },
  {
   "cell_type": "code",
   "execution_count": null,
   "metadata": {},
   "outputs": [],
   "source": [
    "g=individual_case_plot(explainer, X, case_index=0, class_no=1, link='logit', verbose=True) # link='logit' will change log-odds number into probability\n",
    "g"
   ]
  },
  {
   "cell_type": "code",
   "execution_count": null,
   "metadata": {},
   "outputs": [],
   "source": [
    "logit_to_prob(explainer.expected_value[1]) # base value"
   ]
  },
  {
   "cell_type": "code",
   "execution_count": null,
   "metadata": {},
   "outputs": [],
   "source": [
    "p=logit_to_prob(g.data['outValue'])\n",
    "print(f'p={p:.2f}, odds={odds(p):.2f}')"
   ]
  },
  {
   "cell_type": "code",
   "execution_count": null,
   "metadata": {},
   "outputs": [],
   "source": [
    "clf.predict_proba(X.iloc[[0]])"
   ]
  },
  {
   "cell_type": "code",
   "execution_count": null,
   "metadata": {},
   "outputs": [],
   "source": [
    "case_index=1\n",
    "g=individual_case_plot(explainer, X, case_index=case_index, class_no=1, link='logit', verbose=True)\n",
    "g"
   ]
  },
  {
   "cell_type": "code",
   "execution_count": null,
   "metadata": {},
   "outputs": [],
   "source": [
    "case_detail(g)"
   ]
  },
  {
   "cell_type": "code",
   "execution_count": null,
   "metadata": {},
   "outputs": [],
   "source": [
    "g=individual_case_plot(explainer, X, case_index=2, class_no=1, link='logit', verbose=True)\n",
    "g"
   ]
  },
  {
   "cell_type": "code",
   "execution_count": null,
   "metadata": {},
   "outputs": [],
   "source": [
    "class_no=1\n",
    "shap.force_plot(explainer.expected_value[class_no], shap_values[class_no][:100], X[:100])"
   ]
  }
 ],
 "metadata": {
  "kernelspec": {
   "display_name": "Python 3",
   "language": "python",
   "name": "python3"
  },
  "language_info": {
   "codemirror_mode": {
    "name": "ipython",
    "version": 3
   },
   "file_extension": ".py",
   "mimetype": "text/x-python",
   "name": "python",
   "nbconvert_exporter": "python",
   "pygments_lexer": "ipython3",
   "version": "3.7.10"
  },
  "widgets": {
   "application/vnd.jupyter.widget-state+json": {
    "state": {},
    "version_major": 2,
    "version_minor": 0
   }
  }
 },
 "nbformat": 4,
 "nbformat_minor": 4
}
